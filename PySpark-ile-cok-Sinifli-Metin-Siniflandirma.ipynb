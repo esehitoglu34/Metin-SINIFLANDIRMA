{
 "cells": [
  {
   "cell_type": "code",
   "execution_count": null,
   "metadata": {
    "colab": {
     "base_uri": "https://localhost:8080/"
    },
    "id": "mX7pnywCsbIH",
    "outputId": "720675e0-65cd-437c-ac1f-754bc072a384"
   },
   "outputs": [
    {
     "name": "stdout",
     "output_type": "stream",
     "text": [
      "Mounted at /content/drive\n"
     ]
    }
   ],
   "source": [
    "from google.colab import drive\n",
    "drive.mount('/content/drive')"
   ]
  },
  {
   "cell_type": "markdown",
   "metadata": {
    "id": "jHR_0Oip29n4"
   },
   "source": [
    "# **PySpark-ile-cok-Sinifli-Metin-Siniflandirma**\n"
   ]
  },
  {
   "cell_type": "code",
   "execution_count": null,
   "metadata": {
    "colab": {
     "base_uri": "https://localhost:8080/"
    },
    "id": "R2RweaXwAVM4",
    "outputId": "726c9c67-6c5c-4e7e-b2d7-371fc75a415f"
   },
   "outputs": [
    {
     "name": "stdout",
     "output_type": "stream",
     "text": [
      "Collecting findspark\n",
      "  Downloading findspark-2.0.1-py2.py3-none-any.whl (4.4 kB)\n",
      "Installing collected packages: findspark\n",
      "Successfully installed findspark-2.0.1\n"
     ]
    }
   ],
   "source": [
    "pip install findspark"
   ]
  },
  {
   "cell_type": "code",
   "execution_count": null,
   "metadata": {
    "colab": {
     "base_uri": "https://localhost:8080/"
    },
    "id": "-796V9ylGpjt",
    "outputId": "017cbd35-2a72-49b4-8be8-161b09fe6e3b"
   },
   "outputs": [
    {
     "name": "stdout",
     "output_type": "stream",
     "text": [
      "Collecting pyspark\n",
      "  Downloading pyspark-3.5.0.tar.gz (316.9 MB)\n",
      "\u001b[2K     \u001b[90m━━━━━━━━━━━━━━━━━━━━━━━━━━━━━━━━━━━━━━━━\u001b[0m \u001b[32m316.9/316.9 MB\u001b[0m \u001b[31m2.5 MB/s\u001b[0m eta \u001b[36m0:00:00\u001b[0m\n",
      "\u001b[?25h  Preparing metadata (setup.py) ... \u001b[?25l\u001b[?25hdone\n",
      "Requirement already satisfied: findspark in /usr/local/lib/python3.10/dist-packages (2.0.1)\n",
      "Requirement already satisfied: py4j==0.10.9.7 in /usr/local/lib/python3.10/dist-packages (from pyspark) (0.10.9.7)\n",
      "Building wheels for collected packages: pyspark\n",
      "  Building wheel for pyspark (setup.py) ... \u001b[?25l\u001b[?25hdone\n",
      "  Created wheel for pyspark: filename=pyspark-3.5.0-py2.py3-none-any.whl size=317425344 sha256=e9a3e65b566cc2dff1d7cec903d53ea6310a14b1e765ad9f428a22f8831c2e8b\n",
      "  Stored in directory: /root/.cache/pip/wheels/41/4e/10/c2cf2467f71c678cfc8a6b9ac9241e5e44a01940da8fbb17fc\n",
      "Successfully built pyspark\n",
      "Installing collected packages: pyspark\n",
      "Successfully installed pyspark-3.5.0\n"
     ]
    }
   ],
   "source": [
    "pip install pyspark findspark"
   ]
  },
  {
   "cell_type": "code",
   "execution_count": null,
   "metadata": {
    "id": "RCkDpNdXARQZ"
   },
   "outputs": [],
   "source": [
    "import findspark\n",
    "findspark.init('')\n",
    "from pyspark.sql import SparkSession\n",
    "spark = SparkSession.builder \\\n",
    ".master(\"local[4]\") \\\n",
    ".appName(\"multiclass\") \\\n",
    ".config(\"spark.executor.memory\",\"4g\") \\\n",
    ".config(\"spark.driver.memory\",\"2g\") \\\n",
    ".getOrCreate()\n"
   ]
  },
  {
   "cell_type": "code",
   "execution_count": null,
   "metadata": {
    "id": "Qn-UGzA9Zq9V"
   },
   "outputs": [],
   "source": [
    "data = spark.read.option(\"header\",\"True\").option(\"inferSchema\",\"True\").option(\"sep\",\",\").csv(\"/content/drive/MyDrive/MachineLearning/onderhoca/7allV03.csv\")"
   ]
  },
  {
   "cell_type": "code",
   "execution_count": null,
   "metadata": {
    "colab": {
     "base_uri": "https://localhost:8080/"
    },
    "id": "_QbRznZluEzH",
    "outputId": "4cce2b28-3d4f-4519-db94-ff49fae44402"
   },
   "outputs": [
    {
     "name": "stdout",
     "output_type": "stream",
     "text": [
      "+----------+-----+\n",
      "|  Category|count|\n",
      "+----------+-----+\n",
      "|  siyaset |  700|\n",
      "|  ekonomi |  700|\n",
      "|    dunya |  700|\n",
      "|   kultur |  700|\n",
      "|   saglik |  700|\n",
      "|     spor |  700|\n",
      "|teknoloji |  700|\n",
      "+----------+-----+\n",
      "\n"
     ]
    }
   ],
   "source": [
    "from pyspark.sql.functions import col\n",
    "\n",
    "# by top 20 categories\n",
    "data.groupBy(\"Category\").count().orderBy(col(\"count\").desc()).show()"
   ]
  },
  {
   "cell_type": "code",
   "execution_count": null,
   "metadata": {
    "colab": {
     "base_uri": "https://localhost:8080/",
     "height": 574
    },
    "id": "KNLBmnAVQ-3U",
    "outputId": "485e7b51-a28d-4d8b-d0f8-20c4735dc903"
   },
   "outputs": [
    {
     "data": {
      "image/png": "[encoded data removed]",
      "text/plain": [
       "<Figure size 1000x600 with 1 Axes>"
      ]
     },
     "metadata": {},
     "output_type": "display_data"
    }
   ],
   "source": [
    "import matplotlib.pyplot as plt\n",
    "import seaborn as sns\n",
    "\n",
    "# Kategoriler ve değerler\n",
    "categories = ['siyaset', 'ekonomi', 'dünya', 'kültür', 'sağlık', 'spor', 'teknoloji']\n",
    "values = [700, 700, 700, 700, 700, 700, 700]\n",
    "\n",
    "# Seaborn tema ayarı\n",
    "sns.set(style=\"whitegrid\")\n",
    "\n",
    "# Görselleştirme\n",
    "plt.figure(figsize=(10, 6))  # Grafiğin boyutunu ayarla\n",
    "sns.barplot(x=categories, y=values, palette=\"viridis\")  # Seaborn'un barplot fonksiyonunu kullanarak grafiği oluştur\n",
    "plt.title('Herbir kategori için metin sayısı')\n",
    "plt.xlabel('Kategoriler')\n",
    "plt.ylabel('')\n",
    "plt.show()"
   ]
  },
  {
   "cell_type": "code",
   "execution_count": null,
   "metadata": {
    "colab": {
     "base_uri": "https://localhost:8080/"
    },
    "id": "jE4nrv9ruEvE",
    "outputId": "ef14fcde-892b-4466-ba44-9ee841bdf05b"
   },
   "outputs": [
    {
     "data": {
      "text/plain": [
       "['category', 'text']"
      ]
     },
     "execution_count": 20,
     "metadata": {},
     "output_type": "execute_result"
    }
   ],
   "source": [
    "data.columns"
   ]
  },
  {
   "cell_type": "code",
   "execution_count": null,
   "metadata": {
    "colab": {
     "base_uri": "https://localhost:8080/"
    },
    "id": "r1o45UEB0rTW",
    "outputId": "1be49581-5f89-4a51-c936-c8314a695065"
   },
   "outputs": [
    {
     "name": "stdout",
     "output_type": "stream",
     "text": [
      "+--------+--------------------+\n",
      "|category|                text|\n",
      "+--------+--------------------+\n",
      "|siyaset | 3 milyon ile ön ...|\n",
      "|siyaset | mesut_yılmaz yüc...|\n",
      "|siyaset | disko lar kaldır...|\n",
      "|siyaset | sarıgül anayasa_...|\n",
      "|siyaset | erdoğan idamın b...|\n",
      "+--------+--------------------+\n",
      "only showing top 5 rows\n",
      "\n"
     ]
    }
   ],
   "source": [
    "data.show(5)"
   ]
  },
  {
   "cell_type": "code",
   "execution_count": null,
   "metadata": {
    "id": "bX-ttfElys2z"
   },
   "outputs": [],
   "source": [
    "from pyspark.ml.feature import RegexTokenizer, StopWordsRemover, CountVectorizer\n",
    "from pyspark.ml.classification import LogisticRegression\n",
    "\n",
    "# regular expression tokenizer\n",
    "regexTokenizer = RegexTokenizer(inputCol=\"text\", outputCol=\"words\", pattern=\"\\\\W\")\n",
    "\n",
    "stopwords = []\n",
    "with open(r'/content/drive/MyDrive/MachineLearning/onderhoca/stopwords.txt', 'r',encoding='utf-8') as f:\n",
    "  for word in f:\n",
    "    word = word.split('\\n')\n",
    "    stopwords.append(word[0])\n",
    "\n",
    "stopwordsRemover = StopWordsRemover(inputCol=\"words\", outputCol=\"filtered\").setStopWords(stopwords)\n",
    "\n",
    "# bag of words count\n",
    "countVectors = CountVectorizer(inputCol=\"filtered\", outputCol=\"features\", vocabSize=10000, minDF=5)\n"
   ]
  },
  {
   "cell_type": "code",
   "execution_count": null,
   "metadata": {
    "colab": {
     "base_uri": "https://localhost:8080/"
    },
    "id": "dDnv3sX5uEq5",
    "outputId": "00149452-1b6b-496c-f441-88527bdf5267"
   },
   "outputs": [
    {
     "data": {
      "text/plain": [
       "StringIndexer_8ebc9307b4cc"
      ]
     },
     "execution_count": 13,
     "metadata": {},
     "output_type": "execute_result"
    }
   ],
   "source": [
    "from pyspark.ml.feature import OneHotEncoder, StringIndexer, VectorAssembler\n",
    "label_stringIdx = StringIndexer(inputCol = \"category\", outputCol = \"label\")\n",
    "label_stringIdx\n"
   ]
  },
  {
   "cell_type": "code",
   "execution_count": null,
   "metadata": {
    "colab": {
     "base_uri": "https://localhost:8080/"
    },
    "id": "pgAwLAfiDlHM",
    "outputId": "38d96577-27a9-44e2-a3d9-70a3b1ec9e4c"
   },
   "outputs": [
    {
     "name": "stdout",
     "output_type": "stream",
     "text": [
      "+--------+--------------------+\n",
      "|category|                text|\n",
      "+--------+--------------------+\n",
      "|siyaset | 3 milyon ile ön ...|\n",
      "|siyaset | mesut_yılmaz yüc...|\n",
      "|siyaset | disko lar kaldır...|\n",
      "|siyaset | sarıgül anayasa_...|\n",
      "|siyaset | erdoğan idamın b...|\n",
      "|siyaset | hüseyin_çelik bu...|\n",
      "|siyaset | yılmaz_özdil e b...|\n",
      "|siyaset | bakanlıklar lale...|\n",
      "|siyaset | iktidarın gerçek...|\n",
      "|siyaset | vural dan karada...|\n",
      "|siyaset | 100  türkiye ve...|\n",
      "|siyaset | örgütler ölümcül...|\n",
      "|siyaset | bakan_kılıç tan ...|\n",
      "|siyaset | boşboğazlık yapa...|\n",
      "|siyaset | yaptığım bir mül...|\n",
      "|siyaset | bakan_yıldırım y...|\n",
      "|siyaset | chp diyarbakır a...|\n",
      "|siyaset | akp mutabakata e...|\n",
      "|siyaset | demokrasimiz ile...|\n",
      "|siyaset | patriotlar için ...|\n",
      "+--------+--------------------+\n",
      "only showing top 20 rows\n",
      "\n"
     ]
    }
   ],
   "source": [
    "data.show()"
   ]
  },
  {
   "cell_type": "code",
   "execution_count": null,
   "metadata": {
    "id": "efLUWcuMzyA8"
   },
   "outputs": [],
   "source": [
    "from pyspark.ml import Pipeline\n",
    "\n",
    "pipeline = Pipeline(stages=[regexTokenizer, stopwordsRemover, countVectors, label_stringIdx])\n",
    "\n",
    "# Fit the pipeline to training documents.\n",
    "pipelineFit = pipeline.fit(data)\n",
    "dataset = pipelineFit.transform(data)"
   ]
  },
  {
   "cell_type": "code",
   "execution_count": null,
   "metadata": {
    "colab": {
     "base_uri": "https://localhost:8080/"
    },
    "id": "mFUxtR5x1PxC",
    "outputId": "432762fd-590c-42a7-b00f-860cefe95c49"
   },
   "outputs": [
    {
     "name": "stdout",
     "output_type": "stream",
     "text": [
      "+--------+--------------------+--------------------+--------------------+--------------------+-----+\n",
      "|category|                text|               words|            filtered|            features|label|\n",
      "+--------+--------------------+--------------------+--------------------+--------------------+-----+\n",
      "|siyaset | 3 milyon ile ön ...|[3, milyon, ile, ...|[3, n, se, im, va...|(10000,[0,1,2,3,4...|  4.0|\n",
      "|siyaset | mesut_yılmaz yüc...|[mesut_y, lmaz, y...|[mesut_y, lmaz, y...|(10000,[0,1,2,3,4...|  4.0|\n",
      "|siyaset | disko lar kaldır...|[disko, lar, kald...|[disko, lar, kald...|(10000,[0,1,2,3,4...|  4.0|\n",
      "|siyaset | sarıgül anayasa_...|[sar, g, l, anaya...|[sar, g, l, anaya...|(10000,[0,1,2,3,4...|  4.0|\n",
      "|siyaset | erdoğan idamın b...|[erdo, an, idam, ...|[erdo, an, idam, ...|(10000,[0,1,2,3,4...|  4.0|\n",
      "+--------+--------------------+--------------------+--------------------+--------------------+-----+\n",
      "only showing top 5 rows\n",
      "\n"
     ]
    }
   ],
   "source": [
    "dataset.show(5)"
   ]
  },
  {
   "cell_type": "code",
   "execution_count": null,
   "metadata": {
    "colab": {
     "base_uri": "https://localhost:8080/"
    },
    "id": "S97FCFa5bmH_",
    "outputId": "90b2ee47-b764-483d-a6d5-8cb67caf50a5"
   },
   "outputs": [
    {
     "name": "stdout",
     "output_type": "stream",
     "text": [
      "0         siyaset \n",
      "1         siyaset \n",
      "2         siyaset \n",
      "3         siyaset \n",
      "4         siyaset \n",
      "           ...    \n",
      "4895    teknoloji \n",
      "4896    teknoloji \n",
      "4897    teknoloji \n",
      "4898    teknoloji \n",
      "4899    teknoloji \n",
      "Name: category, Length: 4900, dtype: object\n"
     ]
    }
   ],
   "source": [
    "category_sutunu = dataset.select('category').toPandas()['category']\n",
    "print(category_sutunu)"
   ]
  },
  {
   "cell_type": "code",
   "execution_count": null,
   "metadata": {
    "colab": {
     "base_uri": "https://localhost:8080/"
    },
    "id": "mi2ZwGfVcLmP",
    "outputId": "4e1cba5f-0cbb-4dc4-89a6-f3bbfc849e3c"
   },
   "outputs": [
    {
     "name": "stdout",
     "output_type": "stream",
     "text": [
      "0       4.0\n",
      "1       4.0\n",
      "2       4.0\n",
      "3       4.0\n",
      "4       4.0\n",
      "       ... \n",
      "4895    6.0\n",
      "4896    6.0\n",
      "4897    6.0\n",
      "4898    6.0\n",
      "4899    6.0\n",
      "Name: label, Length: 4900, dtype: float64\n"
     ]
    }
   ],
   "source": [
    "label_sutunu = dataset.select('label').toPandas()['label']\n",
    "print(label_sutunu)"
   ]
  },
  {
   "cell_type": "code",
   "execution_count": null,
   "metadata": {
    "colab": {
     "base_uri": "https://localhost:8080/"
    },
    "id": "7zamE-0eahoS",
    "outputId": "e57227b6-bf58-473c-91e4-c11f5f9fad56"
   },
   "outputs": [
    {
     "name": "stdout",
     "output_type": "stream",
     "text": [
      "Kategori: dunya , Etiket: 0.0\n",
      "Kategori: siyaset , Etiket: 4.0\n",
      "Kategori: ekonomi , Etiket: 1.0\n",
      "Kategori: spor , Etiket: 5.0\n",
      "Kategori: saglik , Etiket: 3.0\n",
      "Kategori: kultur , Etiket: 2.0\n",
      "Kategori: teknoloji , Etiket: 6.0\n"
     ]
    }
   ],
   "source": [
    "kategori_label_ciftleri = dataset.select('category', 'label').distinct().collect()\n",
    "\n",
    "# Sonuçları ekrana yazdır\n",
    "for row in kategori_label_ciftleri:\n",
    "    print(f\"Kategori: {row['category']}, Etiket: {row['label']}\")"
   ]
  },
  {
   "cell_type": "code",
   "execution_count": null,
   "metadata": {
    "colab": {
     "base_uri": "https://localhost:8080/",
     "height": 675
    },
    "id": "fjmcTI3Dc5uW",
    "outputId": "70a409ce-4b46-4eb4-f6c9-f16cf719264d"
   },
   "outputs": [
    {
     "name": "stderr",
     "output_type": "stream",
     "text": [
      "<ipython-input-116-ed8fd1bf1408>:30: MatplotlibDeprecationWarning: Unable to determine Axes to steal space for Colorbar. Using gca(), but will raise in the future. Either provide the *cax* argument to use as the Axes for the Colorbar, provide the *ax* argument to steal space from it, or add *mappable* to an Axes.\n",
      "  cbar = plt.colorbar(sm, ticks=pandas_df['label'])\n"
     ]
    },
    {
     "data": {
      "image/png": "[encoded data removed]",
      "text/plain": [
       "<Figure size 1200x600 with 2 Axes>"
      ]
     },
     "metadata": {},
     "output_type": "display_data"
    }
   ],
   "source": [
    "import matplotlib.pyplot as plt\n",
    "import pandas as pd\n",
    "from pyspark.sql import SparkSession\n",
    "from pyspark.sql.functions import col\n",
    "\n",
    "# SparkSession oluşturun (zaten oluşturulmuşsa bu satırı atlayabilirsiniz)\n",
    "spark = SparkSession.builder.appName(\"example\").getOrCreate()\n",
    "\n",
    "# Her bir kategoriye karşılık gelen label değerlerini bulmak\n",
    "kategori_label_df = dataset.select('category', 'label').distinct()\n",
    "\n",
    "# PySpark DataFrame'i Pandas DataFrame'e dönüştür\n",
    "pandas_df = kategori_label_df.toPandas()\n",
    "\n",
    "# Sabit boyut belirle\n",
    "sabit_boyut = 100\n",
    "\n",
    "# Veriyi görselleştir\n",
    "plt.figure(figsize=(12, 6))\n",
    "plt.scatter(pandas_df['category'], pandas_df['label'], s=sabit_boyut, c=pandas_df['label'], cmap='viridis', alpha=0.7)\n",
    "plt.xlabel('Kategori')\n",
    "plt.ylabel('Etiket')\n",
    "plt.title('Kategoriye Göre Etiket Değerleri')\n",
    "plt.xticks(rotation=45, ha='right')\n",
    "plt.grid(True, which='both', linestyle='--', linewidth=0.5)\n",
    "\n",
    "# Renk çubuğunu ekleme\n",
    "sm = plt.cm.ScalarMappable(cmap='viridis', norm=plt.Normalize(vmin=pandas_df['label'].min(), vmax=pandas_df['label'].max()))\n",
    "sm.set_array([])\n",
    "cbar = plt.colorbar(sm, ticks=pandas_df['label'])\n",
    "cbar.set_label('Label Değeri', rotation=270, labelpad=15)\n",
    "\n",
    "plt.show()"
   ]
  },
  {
   "cell_type": "code",
   "execution_count": null,
   "metadata": {
    "id": "7DN2NihGc5qv"
   },
   "outputs": [],
   "source": []
  },
  {
   "cell_type": "code",
   "execution_count": null,
   "metadata": {
    "id": "rDcI0yYhc5e1"
   },
   "outputs": [],
   "source": []
  },
  {
   "cell_type": "markdown",
   "metadata": {
    "id": "JsNW-fLX1dor"
   },
   "source": [
    "# **Verimizi Train ve Test olarak bölelim (%70-%30)**"
   ]
  },
  {
   "cell_type": "code",
   "execution_count": null,
   "metadata": {
    "colab": {
     "base_uri": "https://localhost:8080/"
    },
    "id": "NtxDUlSsuEmP",
    "outputId": "fb9f7e0b-3ad3-4753-b24b-137fc2c0f580"
   },
   "outputs": [
    {
     "name": "stdout",
     "output_type": "stream",
     "text": [
      "Training Dataset Count: 3410\n",
      "Test Dataset Count: 1490\n"
     ]
    }
   ],
   "source": [
    "### Randomly split data into training and test sets. set seed for reproducibility\n",
    "(trainingData, testData) = dataset.randomSplit([0.7, 0.3], seed = 100)\n",
    "print(\"Training Dataset Count: \" + str(trainingData.count()))\n",
    "print(\"Test Dataset Count: \" + str(testData.count()))"
   ]
  },
  {
   "cell_type": "code",
   "execution_count": null,
   "metadata": {
    "colab": {
     "base_uri": "https://localhost:8080/"
    },
    "id": "GPgAvGf8JuY7",
    "outputId": "21208268-3480-4965-92ec-46093de0ec0e"
   },
   "outputs": [
    {
     "name": "stdout",
     "output_type": "stream",
     "text": [
      "+--------+--------------------+--------------------+--------------------+--------------------+-----+\n",
      "|category|                text|               words|            filtered|            features|label|\n",
      "+--------+--------------------+--------------------+--------------------+--------------------+-----+\n",
      "|  dunya | 1 26 milyon insa...|[1, 26, milyon, i...|[1, 26, insan, et...|(10000,[0,1,2,3,4...|  0.0|\n",
      "|  dunya | 100 araç birbiri...|[100, ara, birbir...|[100, ara, birbir...|(10000,[0,1,2,3,4...|  0.0|\n",
      "|  dunya | 100 bin abd li a...|[100, bin, abd, l...|[100, abd, li, ay...|(10000,[0,1,2,3,5...|  0.0|\n",
      "|  dunya | 140 araç birbiri...|[140, ara, birbir...|[140, ara, birbir...|(10000,[0,1,2,3,4...|  0.0|\n",
      "|  dunya | 140 araç birbiri...|[140, ara, birbir...|[140, ara, birbir...|(10000,[0,1,2,3,4...|  0.0|\n",
      "|  dunya | 15 taliban milit...|[15, taliban, mil...|[15, taliban, mil...|(10000,[0,1,4,6,8...|  0.0|\n",
      "|  dunya | 150 araç birbiri...|[150, ara, birbir...|[150, ara, birbir...|(10000,[0,1,2,3,4...|  0.0|\n",
      "|  dunya | 150 araç birbiri...|[150, ara, birbir...|[150, ara, birbir...|(10000,[0,1,2,3,4...|  0.0|\n",
      "|  dunya | 2 nükleer santra...|[2, n, kleer, san...|[2, n, kleer, san...|(10000,[0,1,2,3,4...|  0.0|\n",
      "|  dunya | 280 taliban tesl...|[280, taliban, te...|[280, taliban, te...|(10000,[0,1,4,5,6...|  0.0|\n",
      "|  dunya | 39 bin metreden ...|[39, bin, metrede...|[39, metreden, at...|(10000,[1,2,3,6,7...|  0.0|\n",
      "|  dunya | 5 3 büyüklüğünde...|[5, 3, b, y, kl, ...|[5, 3, b, y, kl, ...|(10000,[0,3,6,7,1...|  0.0|\n",
      "|  dunya | 5 albay türkiye ...|[5, albay, t, rki...|[5, albay, t, rki...|(10000,[0,1,2,3,4...|  0.0|\n",
      "|  dunya | 5 bin 28 kilo uy...|[5, bin, 28, kilo...|[5, 28, kilo, uyu...|(10000,[0,1,2,3,6...|  0.0|\n",
      "|  dunya | 7 denizci serbes...|[7, denizci, serb...|[7, denizci, serb...|(10000,[0,1,2,4,5...|  0.0|\n",
      "|  dunya | 70 yıl önce gönd...|[70, y, l, nce, g...|[70, y, l, nce, g...|(10000,[0,1,2,3,5...|  0.0|\n",
      "|  dunya | 70 yılda eline a...|[70, y, lda, elin...|[70, y, lda, elin...|(10000,[0,1,2,3,5...|  0.0|\n",
      "|  dunya | 700 ton altın ta...|[700, ton, alt, n...|[700, ton, alt, n...|(10000,[0,1,2,4,5...|  0.0|\n",
      "|  dunya | 9 taliban milita...|[9, taliban, mili...|[9, taliban, mili...|(10000,[0,5,10,11...|  0.0|\n",
      "|  dunya | ab den iran gazı...|[ab, den, iran, g...|[ab, den, iran, g...|(10000,[0,1,2,3,4...|  0.0|\n",
      "+--------+--------------------+--------------------+--------------------+--------------------+-----+\n",
      "only showing top 20 rows\n",
      "\n"
     ]
    }
   ],
   "source": [
    "trainingData.show()"
   ]
  },
  {
   "cell_type": "markdown",
   "metadata": {
    "id": "vrfKeC7s1lUY"
   },
   "source": [
    "**Logistic Regression**"
   ]
  },
  {
   "cell_type": "code",
   "execution_count": null,
   "metadata": {
    "id": "Q0G9d9_wuEi9"
   },
   "outputs": [],
   "source": [
    "# Build the model\n",
    "lr = LogisticRegression(maxIter=20, regParam=0.3, elasticNetParam=0)\n",
    "\n",
    "# Train model with Training Data\n",
    "lrModel = lr.fit(trainingData)"
   ]
  },
  {
   "cell_type": "code",
   "execution_count": null,
   "metadata": {
    "colab": {
     "base_uri": "https://localhost:8080/"
    },
    "id": "yJdcoDP3uEeA",
    "outputId": "d1a69d5d-f47d-4e63-81de-ac82236811ca"
   },
   "outputs": [
    {
     "name": "stdout",
     "output_type": "stream",
     "text": [
      "+------------------------------+--------+------------------------------+-----+----------+\n",
      "|                          text|category|                   probability|label|prediction|\n",
      "+------------------------------+--------+------------------------------+-----+----------+\n",
      "| israil in gazze ye saldırı...|  dunya |[0.9999683646346719,4.11800...|  0.0|       0.0|\n",
      "| filistin de bayram havası ...|  dunya |[0.999711439802877,6.910361...|  0.0|       0.0|\n",
      "| türkiye nin yerini mısır a...|  dunya |[0.9960908785302134,2.92440...|  0.0|       0.0|\n",
      "| cenaze için geniş güvenlik...|  dunya |[0.9945769544668055,3.57774...|  0.0|       0.0|\n",
      "| esad kimyasal silah kullan...|  dunya |[0.9863885646361877,8.83861...|  0.0|       0.0|\n",
      "| endonezya da çatışmalar 14...|  dunya |[0.9857707559567038,0.00141...|  0.0|       0.0|\n",
      "| işte 7 gün süren savaşın b...|  dunya |[0.9850240900667753,0.00423...|  0.0|       0.0|\n",
      "| kutlama bitti sıra icraatt...|  dunya |[0.9836911096504122,0.00785...|  0.0|       0.0|\n",
      "| bayram öncesi israil filis...|  dunya |[0.9815316886374806,0.00200...|  0.0|       0.0|\n",
      "| pakistan 10 talibanı serbe...|  dunya |[0.9811944443101218,0.00230...|  0.0|       0.0|\n",
      "+------------------------------+--------+------------------------------+-----+----------+\n",
      "only showing top 10 rows\n",
      "\n"
     ]
    }
   ],
   "source": [
    "predictions = lrModel.transform(testData)\n",
    "\n",
    "predictions.filter(predictions['prediction'] == 0) \\\n",
    "    .select(\"text\",\"category\",\"probability\",\"label\",\"prediction\") \\\n",
    "    .orderBy(\"probability\", ascending=False) \\\n",
    "    .show(n = 10, truncate = 30)"
   ]
  },
  {
   "cell_type": "code",
   "execution_count": null,
   "metadata": {
    "colab": {
     "base_uri": "https://localhost:8080/"
    },
    "id": "84CS2n7euEbS",
    "outputId": "efdb6d77-44fa-45ae-cc8d-f8630cc999ce"
   },
   "outputs": [
    {
     "data": {
      "text/plain": [
       "0.8645874482033994"
      ]
     },
     "execution_count": 24,
     "metadata": {},
     "output_type": "execute_result"
    }
   ],
   "source": [
    "from pyspark.ml.evaluation import MulticlassClassificationEvaluator\n",
    "evaluator = MulticlassClassificationEvaluator(predictionCol=\"prediction\")\n",
    "acc_lr = evaluator.evaluate(predictions)\n",
    "acc_lr"
   ]
  },
  {
   "cell_type": "code",
   "execution_count": null,
   "metadata": {
    "id": "ILeSE5OZuEXw"
   },
   "outputs": [],
   "source": [
    "from pyspark.ml.feature import HashingTF, IDF\n",
    "\n",
    "# Add HashingTF and IDF to transformation\n",
    "hashingTF = HashingTF(inputCol=\"filtered\", outputCol=\"rawFeatures\", numFeatures=10000)\n",
    "idf = IDF(inputCol=\"rawFeatures\", outputCol=\"features\", minDocFreq=5) #minDocFreq: remove sparse terms\n",
    "\n",
    "# Redo Pipeline\n",
    "pipeline = Pipeline(stages=[regexTokenizer, stopwordsRemover, hashingTF, idf, label_stringIdx])"
   ]
  },
  {
   "cell_type": "code",
   "execution_count": null,
   "metadata": {
    "id": "2C6sh2evuEI1"
   },
   "outputs": [],
   "source": [
    "pipelineFit = pipeline.fit(data)\n",
    "dataset = pipelineFit.transform(data)\n",
    "\n",
    "### Randomly split data into training and test sets. set seed for reproducibility\n",
    "(trainingData, testData) = dataset.randomSplit([0.7, 0.3], seed = 100)\n",
    "\n",
    "# Build the model\n",
    "lr = LogisticRegression(maxIter=20, regParam=0.3, elasticNetParam=0)\n",
    "\n",
    "# Train model with Training Data\n",
    "lrModel = lr.fit(trainingData)"
   ]
  },
  {
   "cell_type": "code",
   "execution_count": null,
   "metadata": {
    "colab": {
     "base_uri": "https://localhost:8080/"
    },
    "id": "cd-TNIyR2PkB",
    "outputId": "bbf0e082-cacf-40db-c249-4905adbd5601"
   },
   "outputs": [
    {
     "name": "stdout",
     "output_type": "stream",
     "text": [
      "+------------------------------+--------+------------------------------+-----+----------+\n",
      "|                          text|category|                   probability|label|prediction|\n",
      "+------------------------------+--------+------------------------------+-----+----------+\n",
      "| israil in gazze ye saldırı...|  dunya |[0.999800723181371,5.028763...|  0.0|       0.0|\n",
      "| filistin de bayram havası ...|  dunya |[0.9982572370664036,2.32410...|  0.0|       0.0|\n",
      "| cenaze için geniş güvenlik...|  dunya |[0.9919766499939625,5.85961...|  0.0|       0.0|\n",
      "| 7 bin suriyeli ceylanpınar...|  dunya |[0.9896318666983235,5.55130...|  0.0|       0.0|\n",
      "| esad kimyasal silah kullan...|  dunya |[0.9855076173613029,0.00194...|  0.0|       0.0|\n",
      "| işte 7 gün süren savaşın b...|  dunya |[0.9782280178847401,0.00227...|  0.0|       0.0|\n",
      "| türkiye nin yerini mısır a...|  dunya |[0.9688002733101782,0.00198...|  0.0|       0.0|\n",
      "| çin den filistin ve israil...|  dunya |[0.942516506904336,0.006003...|  0.0|       0.0|\n",
      "| putin  in 3 aralık türkiy...|  dunya |[0.9397940892711726,0.04474...|  0.0|       0.0|\n",
      "| bayram öncesi israil filis...|  dunya |[0.9396256758050778,0.01161...|  0.0|       0.0|\n",
      "+------------------------------+--------+------------------------------+-----+----------+\n",
      "only showing top 10 rows\n",
      "\n"
     ]
    }
   ],
   "source": [
    "predictions = lrModel.transform(testData)\n",
    "\n",
    "predictions.filter(predictions['prediction'] == 0) \\\n",
    "    .select(\"text\",\"category\",\"probability\",\"label\",\"prediction\") \\\n",
    "    .orderBy(\"probability\", ascending=False) \\\n",
    "    .show(n = 10, truncate = 30)"
   ]
  },
  {
   "cell_type": "code",
   "execution_count": null,
   "metadata": {
    "colab": {
     "base_uri": "https://localhost:8080/"
    },
    "id": "1BxKk-A72PfB",
    "outputId": "a35a5196-9e34-4c32-ff52-9a00be84dc59"
   },
   "outputs": [
    {
     "data": {
      "text/plain": [
       "0.8645874482033994"
      ]
     },
     "execution_count": 25,
     "metadata": {},
     "output_type": "execute_result"
    }
   ],
   "source": [
    "evaluator = MulticlassClassificationEvaluator(predictionCol=\"prediction\")\n",
    "evaluator.evaluate(predictions)"
   ]
  },
  {
   "cell_type": "code",
   "execution_count": null,
   "metadata": {
    "colab": {
     "base_uri": "https://localhost:8080/"
    },
    "id": "NzE6tTpU2Par",
    "outputId": "0b188b15-0a40-4371-c7f2-b5dbc4d1cbbe"
   },
   "outputs": [
    {
     "data": {
      "text/plain": [
       "0.8789258939179418"
      ]
     },
     "execution_count": 26,
     "metadata": {},
     "output_type": "execute_result"
    }
   ],
   "source": [
    "pipeline = Pipeline(stages=[regexTokenizer, stopwordsRemover, countVectors, label_stringIdx])\n",
    "\n",
    "pipelineFit = pipeline.fit(data)\n",
    "dataset = pipelineFit.transform(data)\n",
    "(trainingData, testData) = dataset.randomSplit([0.7, 0.3], seed = 100)\n",
    "\n",
    "# Build the model\n",
    "lr = LogisticRegression(maxIter=20, regParam=0.3, elasticNetParam=0)\n",
    "\n",
    "from pyspark.ml.tuning import ParamGridBuilder, CrossValidator\n",
    "\n",
    "# Create ParamGrid for Cross Validation\n",
    "paramGrid = (ParamGridBuilder()\n",
    "             .addGrid(lr.regParam, [0.1, 0.3, 0.5]) # regularization parameter\n",
    "             .addGrid(lr.elasticNetParam, [0.0, 0.1, 0.2]) # Elastic Net Parameter (Ridge = 0)\n",
    "#            .addGrid(model.maxIter, [10, 20, 50]) #Number of iterations\n",
    "#            .addGrid(idf.numFeatures, [10, 100, 1000]) # Number of features\n",
    "             .build())\n",
    "\n",
    "# Create 5-fold CrossValidator\n",
    "cv = CrossValidator(estimator=lr, \\\n",
    "                    estimatorParamMaps=paramGrid, \\\n",
    "                    evaluator=evaluator, \\\n",
    "                    numFolds=5)\n",
    "\n",
    "# Run cross validations\n",
    "cvModel = cv.fit(trainingData)\n",
    "# this will likely take a fair amount of time because of the amount of models that we're creating and testing\n",
    "\n",
    "# Use test set here so we can measure the accuracy of our model on new data\n",
    "predictions = cvModel.transform(testData)\n",
    "\n",
    "# cvModel uses the best model found from the Cross Validation\n",
    "# Evaluate best model\n",
    "evaluator = MulticlassClassificationEvaluator(predictionCol=\"prediction\")\n",
    "acc_lr_cv = evaluator.evaluate(predictions)\n",
    "acc_lr_cv"
   ]
  },
  {
   "cell_type": "code",
   "execution_count": null,
   "metadata": {
    "id": "Xa2DKEQG2PVt"
   },
   "outputs": [],
   "source": [
    "from pyspark.ml.classification import NaiveBayes\n",
    "\n",
    "# create the trainer and set its parameters\n",
    "nb = NaiveBayes(smoothing=1)\n",
    "\n",
    "# train the model\n",
    "model = nb.fit(trainingData)"
   ]
  },
  {
   "cell_type": "code",
   "execution_count": null,
   "metadata": {
    "colab": {
     "base_uri": "https://localhost:8080/"
    },
    "id": "Nhk-CGcx2PQY",
    "outputId": "49638c50-f9b4-47b3-bfe3-852141258aa0"
   },
   "outputs": [
    {
     "name": "stdout",
     "output_type": "stream",
     "text": [
      "+------------------------------+--------+------------------------------+-----+----------+\n",
      "|                          text|category|                   probability|label|prediction|\n",
      "+------------------------------+--------+------------------------------+-----+----------+\n",
      "| iran amerikan uçağına ateş...|  dunya |[1.0,7.61463409390512E-18,1...|  0.0|       0.0|\n",
      "| bağlan da otobüs devrildi ...|  dunya |[1.0,7.202084487081113E-18,...|  0.0|       0.0|\n",
      "| felaket bölgesinde kar yağ...|  dunya |[1.0,4.660413376760917E-20,...|  0.0|       0.0|\n",
      "| ab den iran gazına yasak a...|  dunya |[1.0,1.6102390799965523E-20...|  0.0|       0.0|\n",
      "| ürdün de binler sokağa dök...|  dunya |[1.0,6.992908841668539E-22,...|  0.0|       0.0|\n",
      "| berlin de yunanistan büyük...|  dunya |[1.0,3.811988691340665E-24,...|  0.0|       0.0|\n",
      "| irak ta bombalı saldırılar...|  dunya |[1.0,1.340663746846568E-24,...|  0.0|       0.0|\n",
      "| pakistan da etnik çatışma ...|  dunya |[1.0,9.254384475661462E-26,...|  0.0|       0.0|\n",
      "| norveç prensi nden haiti y...|  dunya |[1.0,4.505814270455758E-26,...|  0.0|       0.0|\n",
      "| abd yi sandy korkusu sardı...|  dunya |[1.0,1.1551174706684553E-27...|  0.0|       0.0|\n",
      "+------------------------------+--------+------------------------------+-----+----------+\n",
      "only showing top 10 rows\n",
      "\n"
     ]
    }
   ],
   "source": [
    "predictions = model.transform(testData)\n",
    "predictions.filter(predictions['prediction'] == 0) \\\n",
    "    .select(\"text\",\"category\",\"probability\",\"label\",\"prediction\") \\\n",
    "    .orderBy(\"probability\", ascending=False) \\\n",
    "    .show(n = 10, truncate = 30)"
   ]
  },
  {
   "cell_type": "code",
   "execution_count": null,
   "metadata": {
    "colab": {
     "base_uri": "https://localhost:8080/"
    },
    "id": "ABijHW272PKy",
    "outputId": "e564b39e-86c1-4a77-aeaa-b2cdb42b304a"
   },
   "outputs": [
    {
     "data": {
      "text/plain": [
       "0.8904502686297682"
      ]
     },
     "execution_count": 37,
     "metadata": {},
     "output_type": "execute_result"
    }
   ],
   "source": [
    "evaluator = MulticlassClassificationEvaluator(predictionCol=\"prediction\")\n",
    "acc_nb = evaluator.evaluate(predictions)\n",
    "acc_nb"
   ]
  },
  {
   "cell_type": "code",
   "execution_count": null,
   "metadata": {
    "id": "j9CcNqhr2PGU"
   },
   "outputs": [],
   "source": [
    "from pyspark.ml.classification import RandomForestClassifier\n",
    "\n",
    "# Create an initial RandomForest model.\n",
    "rf = RandomForestClassifier(labelCol=\"label\", \\\n",
    "                            featuresCol=\"features\", \\\n",
    "                            numTrees = 100, \\\n",
    "                            maxDepth = 4, \\\n",
    "                            maxBins = 32)\n",
    "\n",
    "# Train model with Training Data\n",
    "rfModel = rf.fit(trainingData)"
   ]
  },
  {
   "cell_type": "code",
   "execution_count": null,
   "metadata": {
    "colab": {
     "base_uri": "https://localhost:8080/"
    },
    "id": "0OAp-0O32PBq",
    "outputId": "542cd9c5-0f8c-4b08-fc42-64610448d2bd"
   },
   "outputs": [
    {
     "name": "stdout",
     "output_type": "stream",
     "text": [
      "+------------------------------+--------+------------------------------+-----+----------+\n",
      "|                          text|category|                   probability|label|prediction|\n",
      "+------------------------------+--------+------------------------------+-----+----------+\n",
      "| israil in gazze ye saldırı...|  dunya |[0.19932775623196494,0.1379...|  0.0|       0.0|\n",
      "| mısır abd den israil saldı...|  dunya |[0.19872076949974568,0.1376...|  0.0|       0.0|\n",
      "| çin den filistin ve israil...|  dunya |[0.1957395549444914,0.14447...|  0.0|       0.0|\n",
      "| israil den ateşkes ihlali ...|  dunya |[0.19395457269605873,0.1421...|  0.0|       0.0|\n",
      "| mısır başbakanı gazze ye g...|  dunya |[0.19356866534239414,0.1375...|  0.0|       0.0|\n",
      "| israil den esad a sert yan...|  dunya |[0.19305321287972227,0.1387...|  0.0|       0.0|\n",
      "| ailesinden 10 kişiyi kaybe...|  dunya |[0.19302737761179334,0.1466...|  0.0|       0.0|\n",
      "| israil in saldırıları kabu...|  dunya |[0.19301994219258184,0.1385...|  0.0|       0.0|\n",
      "| israil den gazze_şeridi ne...|  dunya |[0.19156412488759272,0.1369...|  0.0|       0.0|\n",
      "| ürdün suriye sınırında çat...|  dunya |[0.1912830324574877,0.14100...|  0.0|       0.0|\n",
      "+------------------------------+--------+------------------------------+-----+----------+\n",
      "only showing top 10 rows\n",
      "\n"
     ]
    }
   ],
   "source": [
    "predictions = rfModel.transform(testData)\n",
    "\n",
    "predictions.filter(predictions['prediction'] == 0) \\\n",
    "    .select(\"text\",\"category\",\"probability\",\"label\",\"prediction\") \\\n",
    "    .orderBy(\"probability\", ascending=False) \\\n",
    "    .show(n = 10, truncate = 30)"
   ]
  },
  {
   "cell_type": "code",
   "execution_count": null,
   "metadata": {
    "colab": {
     "base_uri": "https://localhost:8080/"
    },
    "id": "B3WgkPCr2O7P",
    "outputId": "a1e9857e-71ff-45e5-98ab-aa46f211222a"
   },
   "outputs": [
    {
     "data": {
      "text/plain": [
       "0.7814712889052091"
      ]
     },
     "execution_count": 40,
     "metadata": {},
     "output_type": "execute_result"
    }
   ],
   "source": [
    "evaluator = MulticlassClassificationEvaluator(predictionCol=\"prediction\")\n",
    "acc_rf = evaluator.evaluate(predictions)\n",
    "acc_rf"
   ]
  },
  {
   "cell_type": "code",
   "execution_count": null,
   "metadata": {
    "colab": {
     "base_uri": "https://localhost:8080/"
    },
    "id": "10O0UE8WFdLB",
    "outputId": "620a2f51-bf36-4ac7-804b-686c66887c44"
   },
   "outputs": [
    {
     "data": {
      "text/plain": [
       "0.47043469044347624"
      ]
     },
     "execution_count": 41,
     "metadata": {},
     "output_type": "execute_result"
    }
   ],
   "source": [
    "from pyspark.ml.classification import DecisionTreeClassifier\n",
    "dt = DecisionTreeClassifier(labelCol=\"label\", featuresCol=\"features\")\n",
    "# Chain indexers and tree in a Pipeline\n",
    "\n",
    "# Train model.  This also runs the indexers.\n",
    "model = dt.fit(trainingData)\n",
    "\n",
    "# Make predictions.\n",
    "predictions = model.transform(testData)\n",
    "\n",
    "evaluator = MulticlassClassificationEvaluator(predictionCol=\"prediction\")\n",
    "acc_dt = evaluator.evaluate(predictions)\n",
    "acc_dt"
   ]
  },
  {
   "cell_type": "code",
   "execution_count": null,
   "metadata": {
    "colab": {
     "base_uri": "https://localhost:8080/"
    },
    "id": "JFlMeNO7QStN",
    "outputId": "0a48cffd-28ca-4337-c21d-3b801bcdda28"
   },
   "outputs": [
    {
     "data": {
      "text/plain": [
       "0.8843058350100603"
      ]
     },
     "execution_count": 42,
     "metadata": {},
     "output_type": "execute_result"
    }
   ],
   "source": [
    "from pyspark.ml.classification import LogisticRegression, OneVsRest\n",
    "\n",
    "(train, test) = dataset.randomSplit([0.8, 0.2])\n",
    "\n",
    "# instantiate the base classifier.\n",
    "lr = LogisticRegression(maxIter=10, tol=1E-6, fitIntercept=True)\n",
    "\n",
    "# instantiate the One Vs Rest Classifier.\n",
    "ovr = OneVsRest(classifier=lr)\n",
    "\n",
    "# train the multiclass model.\n",
    "ovrModel = ovr.fit(train)\n",
    "\n",
    "# score the model on test data.\n",
    "predictions = ovrModel.transform(test)\n",
    "\n",
    "evaluator = MulticlassClassificationEvaluator(predictionCol=\"prediction\" , metricName=\"accuracy\")\n",
    "acc_ovr = evaluator.evaluate(predictions)\n",
    "acc_ovr"
   ]
  },
  {
   "cell_type": "code",
   "execution_count": null,
   "metadata": {
    "colab": {
     "base_uri": "https://localhost:8080/",
     "height": 206
    },
    "id": "aMCYr7XdQSXT",
    "outputId": "aa7cf610-a0fc-408d-9ab0-7b5c88f6296f"
   },
   "outputs": [
    {
     "data": {
      "text/html": [
       "\n",
       "  <div id=\"df-f3fd65d0-c38a-4407-ac24-6fbce166ff8b\" class=\"colab-df-container\">\n",
       "    <div>\n",
       "<style scoped>\n",
       "    .dataframe tbody tr th:only-of-type {\n",
       "        vertical-align: middle;\n",
       "    }\n",
       "\n",
       "    .dataframe tbody tr th {\n",
       "        vertical-align: top;\n",
       "    }\n",
       "\n",
       "    .dataframe thead th {\n",
       "        text-align: right;\n",
       "    }\n",
       "</style>\n",
       "<table border=\"1\" class=\"dataframe\">\n",
       "  <thead>\n",
       "    <tr style=\"text-align: right;\">\n",
       "      <th></th>\n",
       "      <th>Model</th>\n",
       "      <th>Score</th>\n",
       "    </tr>\n",
       "  </thead>\n",
       "  <tbody>\n",
       "    <tr>\n",
       "      <th>0</th>\n",
       "      <td>Logistik Regresyon</td>\n",
       "      <td>87.892589</td>\n",
       "    </tr>\n",
       "    <tr>\n",
       "      <th>1</th>\n",
       "      <td>Naive Bayes</td>\n",
       "      <td>89.045027</td>\n",
       "    </tr>\n",
       "    <tr>\n",
       "      <th>2</th>\n",
       "      <td>Random Forest</td>\n",
       "      <td>78.147129</td>\n",
       "    </tr>\n",
       "    <tr>\n",
       "      <th>3</th>\n",
       "      <td>Decision Tree</td>\n",
       "      <td>47.043469</td>\n",
       "    </tr>\n",
       "    <tr>\n",
       "      <th>4</th>\n",
       "      <td>One-vs-All</td>\n",
       "      <td>88.430584</td>\n",
       "    </tr>\n",
       "  </tbody>\n",
       "</table>\n",
       "</div>\n",
       "    <div class=\"colab-df-buttons\">\n",
       "\n",
       "  <div class=\"colab-df-container\">\n",
       "    <button class=\"colab-df-convert\" onclick=\"convertToInteractive('df-f3fd65d0-c38a-4407-ac24-6fbce166ff8b')\"\n",
       "            title=\"Convert this dataframe to an interactive table.\"\n",
       "            style=\"display:none;\">\n",
       "\n",
       "  <svg xmlns=\"http://www.w3.org/2000/svg\" height=\"24px\" viewBox=\"0 -960 960 960\">\n",
       "    <path d=\"M120-120v-720h720v720H120Zm60-500h600v-160H180v160Zm220 220h160v-160H400v160Zm0 220h160v-160H400v160ZM180-400h160v-160H180v160Zm440 0h160v-160H620v160ZM180-180h160v-160H180v160Zm440 0h160v-160H620v160Z\"/>\n",
       "  </svg>\n",
       "    </button>\n",
       "\n",
       "  <style>\n",
       "    .colab-df-container {\n",
       "      display:flex;\n",
       "      gap: 12px;\n",
       "    }\n",
       "\n",
       "    .colab-df-convert {\n",
       "      background-color: #E8F0FE;\n",
       "      border: none;\n",
       "      border-radius: 50%;\n",
       "      cursor: pointer;\n",
       "      display: none;\n",
       "      fill: #1967D2;\n",
       "      height: 32px;\n",
       "      padding: 0 0 0 0;\n",
       "      width: 32px;\n",
       "    }\n",
       "\n",
       "    .colab-df-convert:hover {\n",
       "      background-color: #E2EBFA;\n",
       "      box-shadow: 0px 1px 2px rgba(60, 64, 67, 0.3), 0px 1px 3px 1px rgba(60, 64, 67, 0.15);\n",
       "      fill: #174EA6;\n",
       "    }\n",
       "\n",
       "    .colab-df-buttons div {\n",
       "      margin-bottom: 4px;\n",
       "    }\n",
       "\n",
       "    [theme=dark] .colab-df-convert {\n",
       "      background-color: #3B4455;\n",
       "      fill: #D2E3FC;\n",
       "    }\n",
       "\n",
       "    [theme=dark] .colab-df-convert:hover {\n",
       "      background-color: #434B5C;\n",
       "      box-shadow: 0px 1px 3px 1px rgba(0, 0, 0, 0.15);\n",
       "      filter: drop-shadow(0px 1px 2px rgba(0, 0, 0, 0.3));\n",
       "      fill: #FFFFFF;\n",
       "    }\n",
       "  </style>\n",
       "\n",
       "    <script>\n",
       "      const buttonEl =\n",
       "        document.querySelector('#df-f3fd65d0-c38a-4407-ac24-6fbce166ff8b button.colab-df-convert');\n",
       "      buttonEl.style.display =\n",
       "        google.colab.kernel.accessAllowed ? 'block' : 'none';\n",
       "\n",
       "      async function convertToInteractive(key) {\n",
       "        const element = document.querySelector('#df-f3fd65d0-c38a-4407-ac24-6fbce166ff8b');\n",
       "        const dataTable =\n",
       "          await google.colab.kernel.invokeFunction('convertToInteractive',\n",
       "                                                    [key], {});\n",
       "        if (!dataTable) return;\n",
       "\n",
       "        const docLinkHtml = 'Like what you see? Visit the ' +\n",
       "          '<a target=\"_blank\" href=https://colab.research.google.com/notebooks/data_table.ipynb>data table notebook</a>'\n",
       "          + ' to learn more about interactive tables.';\n",
       "        element.innerHTML = '';\n",
       "        dataTable['output_type'] = 'display_data';\n",
       "        await google.colab.output.renderOutput(dataTable, element);\n",
       "        const docLink = document.createElement('div');\n",
       "        docLink.innerHTML = docLinkHtml;\n",
       "        element.appendChild(docLink);\n",
       "      }\n",
       "    </script>\n",
       "  </div>\n",
       "\n",
       "\n",
       "<div id=\"df-0ac0ca5f-6a4e-41e8-9e99-aae92c03070a\">\n",
       "  <button class=\"colab-df-quickchart\" onclick=\"quickchart('df-0ac0ca5f-6a4e-41e8-9e99-aae92c03070a')\"\n",
       "            title=\"Suggest charts\"\n",
       "            style=\"display:none;\">\n",
       "\n",
       "<svg xmlns=\"http://www.w3.org/2000/svg\" height=\"24px\"viewBox=\"0 0 24 24\"\n",
       "     width=\"24px\">\n",
       "    <g>\n",
       "        <path d=\"M19 3H5c-1.1 0-2 .9-2 2v14c0 1.1.9 2 2 2h14c1.1 0 2-.9 2-2V5c0-1.1-.9-2-2-2zM9 17H7v-7h2v7zm4 0h-2V7h2v10zm4 0h-2v-4h2v4z\"/>\n",
       "    </g>\n",
       "</svg>\n",
       "  </button>\n",
       "\n",
       "<style>\n",
       "  .colab-df-quickchart {\n",
       "      --bg-color: #E8F0FE;\n",
       "      --fill-color: #1967D2;\n",
       "      --hover-bg-color: #E2EBFA;\n",
       "      --hover-fill-color: #174EA6;\n",
       "      --disabled-fill-color: #AAA;\n",
       "      --disabled-bg-color: #DDD;\n",
       "  }\n",
       "\n",
       "  [theme=dark] .colab-df-quickchart {\n",
       "      --bg-color: #3B4455;\n",
       "      --fill-color: #D2E3FC;\n",
       "      --hover-bg-color: #434B5C;\n",
       "      --hover-fill-color: #FFFFFF;\n",
       "      --disabled-bg-color: #3B4455;\n",
       "      --disabled-fill-color: #666;\n",
       "  }\n",
       "\n",
       "  .colab-df-quickchart {\n",
       "    background-color: var(--bg-color);\n",
       "    border: none;\n",
       "    border-radius: 50%;\n",
       "    cursor: pointer;\n",
       "    display: none;\n",
       "    fill: var(--fill-color);\n",
       "    height: 32px;\n",
       "    padding: 0;\n",
       "    width: 32px;\n",
       "  }\n",
       "\n",
       "  .colab-df-quickchart:hover {\n",
       "    background-color: var(--hover-bg-color);\n",
       "    box-shadow: 0 1px 2px rgba(60, 64, 67, 0.3), 0 1px 3px 1px rgba(60, 64, 67, 0.15);\n",
       "    fill: var(--button-hover-fill-color);\n",
       "  }\n",
       "\n",
       "  .colab-df-quickchart-complete:disabled,\n",
       "  .colab-df-quickchart-complete:disabled:hover {\n",
       "    background-color: var(--disabled-bg-color);\n",
       "    fill: var(--disabled-fill-color);\n",
       "    box-shadow: none;\n",
       "  }\n",
       "\n",
       "  .colab-df-spinner {\n",
       "    border: 2px solid var(--fill-color);\n",
       "    border-color: transparent;\n",
       "    border-bottom-color: var(--fill-color);\n",
       "    animation:\n",
       "      spin 1s steps(1) infinite;\n",
       "  }\n",
       "\n",
       "  @keyframes spin {\n",
       "    0% {\n",
       "      border-color: transparent;\n",
       "      border-bottom-color: var(--fill-color);\n",
       "      border-left-color: var(--fill-color);\n",
       "    }\n",
       "    20% {\n",
       "      border-color: transparent;\n",
       "      border-left-color: var(--fill-color);\n",
       "      border-top-color: var(--fill-color);\n",
       "    }\n",
       "    30% {\n",
       "      border-color: transparent;\n",
       "      border-left-color: var(--fill-color);\n",
       "      border-top-color: var(--fill-color);\n",
       "      border-right-color: var(--fill-color);\n",
       "    }\n",
       "    40% {\n",
       "      border-color: transparent;\n",
       "      border-right-color: var(--fill-color);\n",
       "      border-top-color: var(--fill-color);\n",
       "    }\n",
       "    60% {\n",
       "      border-color: transparent;\n",
       "      border-right-color: var(--fill-color);\n",
       "    }\n",
       "    80% {\n",
       "      border-color: transparent;\n",
       "      border-right-color: var(--fill-color);\n",
       "      border-bottom-color: var(--fill-color);\n",
       "    }\n",
       "    90% {\n",
       "      border-color: transparent;\n",
       "      border-bottom-color: var(--fill-color);\n",
       "    }\n",
       "  }\n",
       "</style>\n",
       "\n",
       "  <script>\n",
       "    async function quickchart(key) {\n",
       "      const quickchartButtonEl =\n",
       "        document.querySelector('#' + key + ' button');\n",
       "      quickchartButtonEl.disabled = true;  // To prevent multiple clicks.\n",
       "      quickchartButtonEl.classList.add('colab-df-spinner');\n",
       "      try {\n",
       "        const charts = await google.colab.kernel.invokeFunction(\n",
       "            'suggestCharts', [key], {});\n",
       "      } catch (error) {\n",
       "        console.error('Error during call to suggestCharts:', error);\n",
       "      }\n",
       "      quickchartButtonEl.classList.remove('colab-df-spinner');\n",
       "      quickchartButtonEl.classList.add('colab-df-quickchart-complete');\n",
       "    }\n",
       "    (() => {\n",
       "      let quickchartButtonEl =\n",
       "        document.querySelector('#df-0ac0ca5f-6a4e-41e8-9e99-aae92c03070a button');\n",
       "      quickchartButtonEl.style.display =\n",
       "        google.colab.kernel.accessAllowed ? 'block' : 'none';\n",
       "    })();\n",
       "  </script>\n",
       "</div>\n",
       "    </div>\n",
       "  </div>\n"
      ],
      "text/plain": [
       "                Model      Score\n",
       "0  Logistik Regresyon  87.892589\n",
       "1         Naive Bayes  89.045027\n",
       "2       Random Forest  78.147129\n",
       "3       Decision Tree  47.043469\n",
       "4          One-vs-All  88.430584"
      ]
     },
     "execution_count": 52,
     "metadata": {},
     "output_type": "execute_result"
    }
   ],
   "source": [
    "#k-fold sonuçları\n",
    "modeller = pd.DataFrame({'Model':['Logistik Regresyon',\n",
    "                                  'Naive Bayes',\n",
    "                                  'Random Forest',\n",
    "                                  'Decision Tree',\n",
    "                                  'One-vs-All',\n",
    "                                 ],\n",
    "                        'Score':[acc_lr_cv*100 , acc_nb*100 , acc_rf*100 , acc_dt*100 , acc_ovr*100 ]})\n",
    "modeller"
   ]
  },
  {
   "cell_type": "code",
   "execution_count": null,
   "metadata": {
    "colab": {
     "base_uri": "https://localhost:8080/",
     "height": 206
    },
    "id": "Pry8zSOFQSMO",
    "outputId": "cf23ca4a-b18f-4593-a1ba-a9a24e64cc1e"
   },
   "outputs": [
    {
     "data": {
      "text/html": [
       "\n",
       "  <div id=\"df-7e40fcfb-9872-4f7b-9196-fa29dcb4f548\" class=\"colab-df-container\">\n",
       "    <div>\n",
       "<style scoped>\n",
       "    .dataframe tbody tr th:only-of-type {\n",
       "        vertical-align: middle;\n",
       "    }\n",
       "\n",
       "    .dataframe tbody tr th {\n",
       "        vertical-align: top;\n",
       "    }\n",
       "\n",
       "    .dataframe thead th {\n",
       "        text-align: right;\n",
       "    }\n",
       "</style>\n",
       "<table border=\"1\" class=\"dataframe\">\n",
       "  <thead>\n",
       "    <tr style=\"text-align: right;\">\n",
       "      <th></th>\n",
       "      <th>Model</th>\n",
       "      <th>Score</th>\n",
       "    </tr>\n",
       "  </thead>\n",
       "  <tbody>\n",
       "    <tr>\n",
       "      <th>1</th>\n",
       "      <td>Naive Bayes</td>\n",
       "      <td>89.045027</td>\n",
       "    </tr>\n",
       "    <tr>\n",
       "      <th>4</th>\n",
       "      <td>One-vs-All</td>\n",
       "      <td>88.430584</td>\n",
       "    </tr>\n",
       "    <tr>\n",
       "      <th>0</th>\n",
       "      <td>Logistik Regresyon</td>\n",
       "      <td>87.892589</td>\n",
       "    </tr>\n",
       "    <tr>\n",
       "      <th>2</th>\n",
       "      <td>Random Forest</td>\n",
       "      <td>78.147129</td>\n",
       "    </tr>\n",
       "    <tr>\n",
       "      <th>3</th>\n",
       "      <td>Decision Tree</td>\n",
       "      <td>47.043469</td>\n",
       "    </tr>\n",
       "  </tbody>\n",
       "</table>\n",
       "</div>\n",
       "    <div class=\"colab-df-buttons\">\n",
       "\n",
       "  <div class=\"colab-df-container\">\n",
       "    <button class=\"colab-df-convert\" onclick=\"convertToInteractive('df-7e40fcfb-9872-4f7b-9196-fa29dcb4f548')\"\n",
       "            title=\"Convert this dataframe to an interactive table.\"\n",
       "            style=\"display:none;\">\n",
       "\n",
       "  <svg xmlns=\"http://www.w3.org/2000/svg\" height=\"24px\" viewBox=\"0 -960 960 960\">\n",
       "    <path d=\"M120-120v-720h720v720H120Zm60-500h600v-160H180v160Zm220 220h160v-160H400v160Zm0 220h160v-160H400v160ZM180-400h160v-160H180v160Zm440 0h160v-160H620v160ZM180-180h160v-160H180v160Zm440 0h160v-160H620v160Z\"/>\n",
       "  </svg>\n",
       "    </button>\n",
       "\n",
       "  <style>\n",
       "    .colab-df-container {\n",
       "      display:flex;\n",
       "      gap: 12px;\n",
       "    }\n",
       "\n",
       "    .colab-df-convert {\n",
       "      background-color: #E8F0FE;\n",
       "      border: none;\n",
       "      border-radius: 50%;\n",
       "      cursor: pointer;\n",
       "      display: none;\n",
       "      fill: #1967D2;\n",
       "      height: 32px;\n",
       "      padding: 0 0 0 0;\n",
       "      width: 32px;\n",
       "    }\n",
       "\n",
       "    .colab-df-convert:hover {\n",
       "      background-color: #E2EBFA;\n",
       "      box-shadow: 0px 1px 2px rgba(60, 64, 67, 0.3), 0px 1px 3px 1px rgba(60, 64, 67, 0.15);\n",
       "      fill: #174EA6;\n",
       "    }\n",
       "\n",
       "    .colab-df-buttons div {\n",
       "      margin-bottom: 4px;\n",
       "    }\n",
       "\n",
       "    [theme=dark] .colab-df-convert {\n",
       "      background-color: #3B4455;\n",
       "      fill: #D2E3FC;\n",
       "    }\n",
       "\n",
       "    [theme=dark] .colab-df-convert:hover {\n",
       "      background-color: #434B5C;\n",
       "      box-shadow: 0px 1px 3px 1px rgba(0, 0, 0, 0.15);\n",
       "      filter: drop-shadow(0px 1px 2px rgba(0, 0, 0, 0.3));\n",
       "      fill: #FFFFFF;\n",
       "    }\n",
       "  </style>\n",
       "\n",
       "    <script>\n",
       "      const buttonEl =\n",
       "        document.querySelector('#df-7e40fcfb-9872-4f7b-9196-fa29dcb4f548 button.colab-df-convert');\n",
       "      buttonEl.style.display =\n",
       "        google.colab.kernel.accessAllowed ? 'block' : 'none';\n",
       "\n",
       "      async function convertToInteractive(key) {\n",
       "        const element = document.querySelector('#df-7e40fcfb-9872-4f7b-9196-fa29dcb4f548');\n",
       "        const dataTable =\n",
       "          await google.colab.kernel.invokeFunction('convertToInteractive',\n",
       "                                                    [key], {});\n",
       "        if (!dataTable) return;\n",
       "\n",
       "        const docLinkHtml = 'Like what you see? Visit the ' +\n",
       "          '<a target=\"_blank\" href=https://colab.research.google.com/notebooks/data_table.ipynb>data table notebook</a>'\n",
       "          + ' to learn more about interactive tables.';\n",
       "        element.innerHTML = '';\n",
       "        dataTable['output_type'] = 'display_data';\n",
       "        await google.colab.output.renderOutput(dataTable, element);\n",
       "        const docLink = document.createElement('div');\n",
       "        docLink.innerHTML = docLinkHtml;\n",
       "        element.appendChild(docLink);\n",
       "      }\n",
       "    </script>\n",
       "  </div>\n",
       "\n",
       "\n",
       "<div id=\"df-b2c31657-7a9c-49ed-8db3-822a5aa3c7d9\">\n",
       "  <button class=\"colab-df-quickchart\" onclick=\"quickchart('df-b2c31657-7a9c-49ed-8db3-822a5aa3c7d9')\"\n",
       "            title=\"Suggest charts\"\n",
       "            style=\"display:none;\">\n",
       "\n",
       "<svg xmlns=\"http://www.w3.org/2000/svg\" height=\"24px\"viewBox=\"0 0 24 24\"\n",
       "     width=\"24px\">\n",
       "    <g>\n",
       "        <path d=\"M19 3H5c-1.1 0-2 .9-2 2v14c0 1.1.9 2 2 2h14c1.1 0 2-.9 2-2V5c0-1.1-.9-2-2-2zM9 17H7v-7h2v7zm4 0h-2V7h2v10zm4 0h-2v-4h2v4z\"/>\n",
       "    </g>\n",
       "</svg>\n",
       "  </button>\n",
       "\n",
       "<style>\n",
       "  .colab-df-quickchart {\n",
       "      --bg-color: #E8F0FE;\n",
       "      --fill-color: #1967D2;\n",
       "      --hover-bg-color: #E2EBFA;\n",
       "      --hover-fill-color: #174EA6;\n",
       "      --disabled-fill-color: #AAA;\n",
       "      --disabled-bg-color: #DDD;\n",
       "  }\n",
       "\n",
       "  [theme=dark] .colab-df-quickchart {\n",
       "      --bg-color: #3B4455;\n",
       "      --fill-color: #D2E3FC;\n",
       "      --hover-bg-color: #434B5C;\n",
       "      --hover-fill-color: #FFFFFF;\n",
       "      --disabled-bg-color: #3B4455;\n",
       "      --disabled-fill-color: #666;\n",
       "  }\n",
       "\n",
       "  .colab-df-quickchart {\n",
       "    background-color: var(--bg-color);\n",
       "    border: none;\n",
       "    border-radius: 50%;\n",
       "    cursor: pointer;\n",
       "    display: none;\n",
       "    fill: var(--fill-color);\n",
       "    height: 32px;\n",
       "    padding: 0;\n",
       "    width: 32px;\n",
       "  }\n",
       "\n",
       "  .colab-df-quickchart:hover {\n",
       "    background-color: var(--hover-bg-color);\n",
       "    box-shadow: 0 1px 2px rgba(60, 64, 67, 0.3), 0 1px 3px 1px rgba(60, 64, 67, 0.15);\n",
       "    fill: var(--button-hover-fill-color);\n",
       "  }\n",
       "\n",
       "  .colab-df-quickchart-complete:disabled,\n",
       "  .colab-df-quickchart-complete:disabled:hover {\n",
       "    background-color: var(--disabled-bg-color);\n",
       "    fill: var(--disabled-fill-color);\n",
       "    box-shadow: none;\n",
       "  }\n",
       "\n",
       "  .colab-df-spinner {\n",
       "    border: 2px solid var(--fill-color);\n",
       "    border-color: transparent;\n",
       "    border-bottom-color: var(--fill-color);\n",
       "    animation:\n",
       "      spin 1s steps(1) infinite;\n",
       "  }\n",
       "\n",
       "  @keyframes spin {\n",
       "    0% {\n",
       "      border-color: transparent;\n",
       "      border-bottom-color: var(--fill-color);\n",
       "      border-left-color: var(--fill-color);\n",
       "    }\n",
       "    20% {\n",
       "      border-color: transparent;\n",
       "      border-left-color: var(--fill-color);\n",
       "      border-top-color: var(--fill-color);\n",
       "    }\n",
       "    30% {\n",
       "      border-color: transparent;\n",
       "      border-left-color: var(--fill-color);\n",
       "      border-top-color: var(--fill-color);\n",
       "      border-right-color: var(--fill-color);\n",
       "    }\n",
       "    40% {\n",
       "      border-color: transparent;\n",
       "      border-right-color: var(--fill-color);\n",
       "      border-top-color: var(--fill-color);\n",
       "    }\n",
       "    60% {\n",
       "      border-color: transparent;\n",
       "      border-right-color: var(--fill-color);\n",
       "    }\n",
       "    80% {\n",
       "      border-color: transparent;\n",
       "      border-right-color: var(--fill-color);\n",
       "      border-bottom-color: var(--fill-color);\n",
       "    }\n",
       "    90% {\n",
       "      border-color: transparent;\n",
       "      border-bottom-color: var(--fill-color);\n",
       "    }\n",
       "  }\n",
       "</style>\n",
       "\n",
       "  <script>\n",
       "    async function quickchart(key) {\n",
       "      const quickchartButtonEl =\n",
       "        document.querySelector('#' + key + ' button');\n",
       "      quickchartButtonEl.disabled = true;  // To prevent multiple clicks.\n",
       "      quickchartButtonEl.classList.add('colab-df-spinner');\n",
       "      try {\n",
       "        const charts = await google.colab.kernel.invokeFunction(\n",
       "            'suggestCharts', [key], {});\n",
       "      } catch (error) {\n",
       "        console.error('Error during call to suggestCharts:', error);\n",
       "      }\n",
       "      quickchartButtonEl.classList.remove('colab-df-spinner');\n",
       "      quickchartButtonEl.classList.add('colab-df-quickchart-complete');\n",
       "    }\n",
       "    (() => {\n",
       "      let quickchartButtonEl =\n",
       "        document.querySelector('#df-b2c31657-7a9c-49ed-8db3-822a5aa3c7d9 button');\n",
       "      quickchartButtonEl.style.display =\n",
       "        google.colab.kernel.accessAllowed ? 'block' : 'none';\n",
       "    })();\n",
       "  </script>\n",
       "</div>\n",
       "    </div>\n",
       "  </div>\n"
      ],
      "text/plain": [
       "                Model      Score\n",
       "1         Naive Bayes  89.045027\n",
       "4          One-vs-All  88.430584\n",
       "0  Logistik Regresyon  87.892589\n",
       "2       Random Forest  78.147129\n",
       "3       Decision Tree  47.043469"
      ]
     },
     "execution_count": 53,
     "metadata": {},
     "output_type": "execute_result"
    }
   ],
   "source": [
    "model_sort = modeller.sort_values(by='Score',ascending=False)\n",
    "model_sort"
   ]
  },
  {
   "cell_type": "code",
   "execution_count": null,
   "metadata": {
    "colab": {
     "base_uri": "https://localhost:8080/",
     "height": 480
    },
    "id": "cX-dI42vkgxu",
    "outputId": "8df395b7-1d25-49aa-d43c-358e93070cc0"
   },
   "outputs": [
    {
     "data": {
      "image/png": "[encoded data removed]",
      "text/plain": [
       "<Figure size 640x480 with 1 Axes>"
      ]
     },
     "metadata": {},
     "output_type": "display_data"
    }
   ],
   "source": [
    "sns.barplot( x= model_sort.Score , y=model_sort.Model )\n",
    "\n",
    "plt.xlabel(\"Score\")\n",
    "plt.ylabel(\"Modeller\")\n",
    "plt.title(\"Sınıflandırma model scorları\")\n",
    "plt.show()"
   ]
  },
  {
   "cell_type": "code",
   "execution_count": null,
   "metadata": {
    "colab": {
     "base_uri": "https://localhost:8080/",
     "height": 566
    },
    "id": "EvApzvm3kgpC",
    "outputId": "88316d16-4ff7-48c8-9868-c0f8abd2f626"
   },
   "outputs": [
    {
     "data": {
      "image/png": "[encoded data removed]",
      "text/plain": [
       "<Figure size 1000x600 with 1 Axes>"
      ]
     },
     "metadata": {},
     "output_type": "display_data"
    }
   ],
   "source": [
    "import matplotlib.pyplot as plt\n",
    "import seaborn as sns\n",
    "\n",
    "models = [\"Naive Bayes\", \"One-vs-All\", \"Logistik Regresyon\", \"Random Forest\", \"Decision Tree\"]\n",
    "scores = [89.045027, 88.430584, 87.892589, 78.147129, 47.043469]\n",
    "\n",
    "# Dönüşüm: Skorları yüzdelik formatına çevirme\n",
    "percentage_scores = [score / 100 for score in scores]\n",
    "\n",
    "# Set a color palette\n",
    "custom_colors = sns.color_palette(\"viridis\", len(models))\n",
    "\n",
    "# Set the style for the plot\n",
    "sns.set(style=\"whitegrid\")\n",
    "\n",
    "# Create a bar plot\n",
    "plt.figure(figsize=(10, 6))\n",
    "bar_plot = sns.barplot(x=percentage_scores, y=models, palette=custom_colors)\n",
    "\n",
    "# Display the scores on the bars\n",
    "for index, value in enumerate(percentage_scores):\n",
    "    bar_plot.text(value, index, f'{value:.2%}', ha=\"left\", va=\"center\", color='black', fontweight='bold')\n",
    "\n",
    "# Customize the plot\n",
    "plt.xlabel('Score')\n",
    "plt.title('Model Scores')\n",
    "\n",
    "plt.show()"
   ]
  },
  {
   "cell_type": "code",
   "execution_count": null,
   "metadata": {
    "colab": {
     "base_uri": "https://localhost:8080/",
     "height": 603
    },
    "id": "RDUhegSmkggD",
    "outputId": "fd39ae45-c600-48b8-8850-bd2ccd16b105"
   },
   "outputs": [
    {
     "name": "stderr",
     "output_type": "stream",
     "text": [
      "WARNING:matplotlib.legend:No artists with labels found to put in legend.  Note that artists whose label start with an underscore are ignored when legend() is called with no argument.\n"
     ]
    },
    {
     "data": {
      "image/png": "[encoded data removed]",
      "text/plain": [
       "<Figure size 1000x600 with 1 Axes>"
      ]
     },
     "metadata": {},
     "output_type": "display_data"
    }
   ],
   "source": [
    "import matplotlib.pyplot as plt\n",
    "import seaborn as sns\n",
    "\n",
    "models = [\"Naive Bayes\", \"One-vs-All\", \"Logistik Regresyon\", \"Random Forest\", \"Decision Tree\"]\n",
    "scores = [89.04, 88.43, 87.89, 78.14, 47.04]\n",
    "\n",
    "# Set a different color palette\n",
    "custom_colors = sns.color_palette(\"Set3\", len(models))\n",
    "\n",
    "# Set the style for the plot\n",
    "sns.set(style=\"whitegrid\")\n",
    "\n",
    "# Create a bar plot\n",
    "plt.figure(figsize=(10, 6))\n",
    "bar_plot = sns.barplot(x=scores, y=models, palette=custom_colors)\n",
    "\n",
    "# Display the scores on the bars\n",
    "for index, value in enumerate(scores):\n",
    "    bar_plot.text(value, index, f'{value:.2f}%', ha=\"left\", va=\"center\", color='black', fontweight='bold')\n",
    "\n",
    "# Customize the plot\n",
    "plt.xlabel('Score')\n",
    "plt.title('Model Scores')\n",
    "\n",
    "\n",
    "# Add legend\n",
    "plt.legend()\n",
    "\n",
    "# Show the plot\n",
    "plt.show()"
   ]
  },
  {
   "cell_type": "code",
   "execution_count": null,
   "metadata": {
    "id": "iWL3ZY7MkgUS"
   },
   "outputs": [],
   "source": []
  },
  {
   "cell_type": "code",
   "execution_count": null,
   "metadata": {
    "id": "FV_EHnBGzNmU"
   },
   "outputs": [],
   "source": []
  },
  {
   "cell_type": "code",
   "execution_count": null,
   "metadata": {
    "id": "MVsduWhJ5hUo"
   },
   "outputs": [],
   "source": []
  },
  {
   "cell_type": "code",
   "execution_count": null,
   "metadata": {
    "id": "qo0gal-m5hNr"
   },
   "outputs": [],
   "source": []
  },
  {
   "cell_type": "code",
   "execution_count": null,
   "metadata": {
    "id": "Yg5vwIgX5hHS"
   },
   "outputs": [],
   "source": []
  },
  {
   "cell_type": "code",
   "execution_count": null,
   "metadata": {
    "id": "aK4wpbwm5hDW"
   },
   "outputs": [],
   "source": []
  }
 ],
 "metadata": {
  "colab": {
   "provenance": []
  },
  "kernelspec": {
   "display_name": "Python 3 (ipykernel)",
   "language": "python",
   "name": "python3"
  },
  "language_info": {
   "codemirror_mode": {
    "name": "ipython",
    "version": 3
   },
   "file_extension": ".py",
   "mimetype": "text/x-python",
   "name": "python",
   "nbconvert_exporter": "python",
   "pygments_lexer": "ipython3",
   "version": "3.11.5"
  }
 },
 "nbformat": 4,
 "nbformat_minor": 1
}
